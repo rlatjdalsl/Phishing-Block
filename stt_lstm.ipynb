{
  "nbformat": 4,
  "nbformat_minor": 0,
  "metadata": {
    "colab": {
      "provenance": [],
      "include_colab_link": true
    },
    "kernelspec": {
      "name": "python3",
      "display_name": "Python 3"
    },
    "language_info": {
      "name": "python"
    }
  },
  "cells": [
    {
      "cell_type": "markdown",
      "metadata": {
        "id": "view-in-github",
        "colab_type": "text"
      },
      "source": [
        "<a href=\"https://colab.research.google.com/github/rlatjdalsl/Phishing-Block/blob/main/stt_lstm.ipynb\" target=\"_parent\"><img src=\"https://colab.research.google.com/assets/colab-badge.svg\" alt=\"Open In Colab\"/></a>"
      ]
    },
    {
      "cell_type": "code",
      "source": [
        "!pip install SpeechRecognition pydub\n",
        "!apt-get install -y ffmpeg"
      ],
      "metadata": {
        "colab": {
          "base_uri": "https://localhost:8080/"
        },
        "id": "uuWkj4BrepNF",
        "outputId": "248faf83-d365-4650-fc6d-d945e7ab109f"
      },
      "execution_count": null,
      "outputs": [
        {
          "output_type": "stream",
          "name": "stdout",
          "text": [
            "Collecting SpeechRecognition\n",
            "  Downloading speechrecognition-3.14.3-py3-none-any.whl.metadata (30 kB)\n",
            "Collecting pydub\n",
            "  Downloading pydub-0.25.1-py2.py3-none-any.whl.metadata (1.4 kB)\n",
            "Requirement already satisfied: typing-extensions in /usr/local/lib/python3.11/dist-packages (from SpeechRecognition) (4.13.2)\n",
            "Downloading speechrecognition-3.14.3-py3-none-any.whl (32.9 MB)\n",
            "\u001b[2K   \u001b[90m━━━━━━━━━━━━━━━━━━━━━━━━━━━━━━━━━━━━━━━━\u001b[0m \u001b[32m32.9/32.9 MB\u001b[0m \u001b[31m24.6 MB/s\u001b[0m eta \u001b[36m0:00:00\u001b[0m\n",
            "\u001b[?25hDownloading pydub-0.25.1-py2.py3-none-any.whl (32 kB)\n",
            "Installing collected packages: pydub, SpeechRecognition\n",
            "Successfully installed SpeechRecognition-3.14.3 pydub-0.25.1\n",
            "Reading package lists... Done\n",
            "Building dependency tree... Done\n",
            "Reading state information... Done\n",
            "ffmpeg is already the newest version (7:4.4.2-0ubuntu0.22.04.1).\n",
            "0 upgraded, 0 newly installed, 0 to remove and 34 not upgraded.\n"
          ]
        }
      ]
    },
    {
      "cell_type": "code",
      "source": [
        "import speech_recognition as sr\n",
        "import os\n",
        "\n",
        "# Google Drive 마운트\n",
        "from google.colab import drive\n",
        "drive.mount('/content/drive')\n",
        "\n",
        "# VoiceFile 폴더 경로 설정\n",
        "voice_file_path = '/content/drive/My Drive/Colab Notebooks/VoiceFile'\n",
        "\n",
        "# VoiceFile 폴더 안의 파일 목록 확인\n",
        "file_list = os.listdir(voice_file_path)\n",
        "print(\"VoiceFile 폴더 안의 파일 목록:\")\n",
        "for file in file_list:\n",
        "    print(file)\n",
        "\n",
        "def google_stt_from_drive(file_name):\n",
        "    recognizer = sr.Recognizer()\n",
        "    file_path = f\"{voice_file_path}/{file_name}\"\n",
        "    try:\n",
        "        with sr.AudioFile(file_path) as source:\n",
        "            print(\"음성을 불러오는 중...\")\n",
        "            audio = recognizer.record(source)\n",
        "            print(\"Google STT 변환 중...\")\n",
        "            text = recognizer.recognize_google(audio, language=\"ko-KR\")\n",
        "            print(\"인식된 텍스트:\", text)\n",
        "            return text\n",
        "    except sr.RequestError:\n",
        "        print(\"API 오류: Google 서버에 접근할 수 없습니다.\")\n",
        "    except sr.UnknownValueError:\n",
        "        print(\"음성을 인식하지 못했습니다.\")\n",
        "    return None\n",
        "\n",
        "# 첫 번째 파일로 테스트\n",
        "if file_list:\n",
        "    file_name = file_list[0]  # VoiceFile 폴더 안의 첫 번째 파일 사용\n",
        "    google_stt_from_drive(file_name)\n",
        "else:\n",
        "    print(\"VoiceFile 폴더에 음성 파일이 없습니다.\")\n"
      ],
      "metadata": {
        "colab": {
          "base_uri": "https://localhost:8080/"
        },
        "id": "rU305kWre3aI",
        "outputId": "6dccbcc0-c2c0-4cbf-cc21-214a39696991"
      },
      "execution_count": null,
      "outputs": [
        {
          "output_type": "stream",
          "name": "stdout",
          "text": [
            "Mounted at /content/drive\n",
            "VoiceFile 폴더 안의 파일 목록:\n",
            "test.wav\n",
            "model\n",
            "phishing\n",
            "normal\n",
            "음성을 불러오는 중...\n",
            "Google STT 변환 중...\n",
            "인식된 텍스트: 안녕하세요 하나 둘 셋 하나 둘 셋 저는 사기꾼입니다 보이스 피싱 저는 보이스피싱범입니다 돈을 빨리 보내 주셔야 지금 아들이 저랑 같이 있어요 지금 딸이 저랑 같이 있어요 지금 어머니가 크게 다치셨어요 지금 아버지가 크게 다치셨어요 안녕하세요 검찰 지금 대포 통장이 연료 되셨는데요\n"
          ]
        }
      ]
    },
    {
      "cell_type": "code",
      "source": [
        "import os\n",
        "from tensorflow.keras.preprocessing.text import Tokenizer\n",
        "from tensorflow.keras.preprocessing.sequence import pad_sequences\n",
        "import numpy as np\n",
        "\n",
        "# Google Drive 경로 설정\n",
        "base_path = '/content/drive/My Drive/Colab Notebooks/VoiceFile'\n",
        "normal_path = f'{base_path}/normal'\n",
        "phishing_path = f'{base_path}/phishing'\n",
        "\n",
        "# 텍스트 파일에서 문장 읽기\n",
        "def load_texts_from_folder(folder_path, label):\n",
        "    texts = []\n",
        "    labels = []\n",
        "    for file_name in os.listdir(folder_path):\n",
        "        file_path = os.path.join(folder_path, file_name)\n",
        "        if file_name.endswith('.txt'):\n",
        "            with open(file_path, 'r', encoding='utf-8') as f:\n",
        "                text = f.read().strip()\n",
        "                texts.append(text)\n",
        "                labels.append(label)\n",
        "    return texts, labels\n",
        "\n",
        "# 정상 대화 데이터 로드\n",
        "normal_texts, normal_labels = load_texts_from_folder(normal_path, label=0)\n",
        "\n",
        "# 보이스피싱 의심 대화 데이터 로드\n",
        "phishing_texts, phishing_labels = load_texts_from_folder(phishing_path, label=1)\n",
        "\n",
        "# 모든 데이터를 하나로 합치기\n",
        "texts = normal_texts + phishing_texts\n",
        "labels = normal_labels + phishing_labels\n",
        "\n",
        "# 데이터 확인\n",
        "print(f\"총 데이터 개수: {len(texts)}\")\n",
        "print(f\"일반 대화: {len(normal_texts)}, 보이스피싱 대화: {len(phishing_texts)}\")\n",
        "\n",
        "# 토크나이저 생성 및 학습\n",
        "tokenizer = Tokenizer(num_words=5000)\n",
        "tokenizer.fit_on_texts(texts)\n",
        "\n",
        "# 시퀀스 변환\n",
        "sequences = tokenizer.texts_to_sequences(texts)\n",
        "padded = pad_sequences(sequences, maxlen=200)\n",
        "\n",
        "# numpy 배열로 변환\n",
        "labels = np.array(labels)\n",
        "\n",
        "print(\"✅ 데이터 로드 및 전처리 완료!\")\n"
      ],
      "metadata": {
        "colab": {
          "base_uri": "https://localhost:8080/"
        },
        "id": "0rs6dDUdFksi",
        "outputId": "1c5b6bac-4a00-4795-ef96-d43311ab6102"
      },
      "execution_count": null,
      "outputs": [
        {
          "output_type": "stream",
          "name": "stdout",
          "text": [
            "총 데이터 개수: 15\n",
            "일반 대화: 7, 보이스피싱 대화: 8\n",
            "✅ 데이터 로드 및 전처리 완료!\n"
          ]
        }
      ]
    },
    {
      "cell_type": "code",
      "source": [
        "from tensorflow.keras.models import Sequential\n",
        "from tensorflow.keras.layers import Embedding, LSTM, Dense\n",
        "\n",
        "# 모델 정의\n",
        "model = Sequential([\n",
        "    Embedding(input_dim=5000, output_dim=128, input_length=100),\n",
        "    LSTM(64),\n",
        "    Dense(1, activation='sigmoid')\n",
        "])\n",
        "\n",
        "# 모델 컴파일\n",
        "model.compile(optimizer='adam', loss='binary_crossentropy', metrics=['accuracy'])\n",
        "\n",
        "# 모델 학습\n",
        "model.fit(padded, labels, epochs=5, batch_size=8)\n",
        "\n",
        "# 모델 저장\n",
        "model_path = f'{base_path}/model'\n",
        "if not os.path.exists(model_path):\n",
        "    os.makedirs(model_path)\n",
        "\n",
        "model.save(f\"{model_path}/phishing_model.h5\")\n",
        "\n",
        "# 토크나이저 저장\n",
        "import pickle\n",
        "with open(f\"{model_path}/tokenizer.pkl\", \"wb\") as f:\n",
        "    pickle.dump(tokenizer, f)\n",
        "\n",
        "print(\"✅ 모델 학습 및 저장 완료!\")\n"
      ],
      "metadata": {
        "colab": {
          "base_uri": "https://localhost:8080/"
        },
        "id": "QM5wqsSkF4Ky",
        "outputId": "a23d8a6c-c457-49b4-ac40-908711b8a934"
      },
      "execution_count": null,
      "outputs": [
        {
          "output_type": "stream",
          "name": "stdout",
          "text": [
            "Epoch 1/5\n",
            "\u001b[1m2/2\u001b[0m \u001b[32m━━━━━━━━━━━━━━━━━━━━\u001b[0m\u001b[37m\u001b[0m \u001b[1m2s\u001b[0m 71ms/step - accuracy: 0.8250 - loss: 0.6895\n",
            "Epoch 2/5\n",
            "\u001b[1m2/2\u001b[0m \u001b[32m━━━━━━━━━━━━━━━━━━━━\u001b[0m\u001b[37m\u001b[0m \u001b[1m0s\u001b[0m 69ms/step - accuracy: 0.9139 - loss: 0.6775\n",
            "Epoch 3/5\n",
            "\u001b[1m2/2\u001b[0m \u001b[32m━━━━━━━━━━━━━━━━━━━━\u001b[0m\u001b[37m\u001b[0m \u001b[1m0s\u001b[0m 68ms/step - accuracy: 1.0000 - loss: 0.6643\n",
            "Epoch 4/5\n",
            "\u001b[1m2/2\u001b[0m \u001b[32m━━━━━━━━━━━━━━━━━━━━\u001b[0m\u001b[37m\u001b[0m \u001b[1m0s\u001b[0m 70ms/step - accuracy: 1.0000 - loss: 0.6461\n",
            "Epoch 5/5\n",
            "\u001b[1m2/2\u001b[0m \u001b[32m━━━━━━━━━━━━━━━━━━━━\u001b[0m\u001b[37m\u001b[0m \u001b[1m0s\u001b[0m 66ms/step - accuracy: 1.0000 - loss: 0.6257\n"
          ]
        },
        {
          "output_type": "stream",
          "name": "stderr",
          "text": [
            "WARNING:absl:You are saving your model as an HDF5 file via `model.save()` or `keras.saving.save_model(model)`. This file format is considered legacy. We recommend using instead the native Keras format, e.g. `model.save('my_model.keras')` or `keras.saving.save_model(model, 'my_model.keras')`. \n"
          ]
        },
        {
          "output_type": "stream",
          "name": "stdout",
          "text": [
            "✅ 모델 학습 및 저장 완료!\n"
          ]
        }
      ]
    },
    {
      "cell_type": "code",
      "source": [
        "from google.colab import drive\n",
        "drive.mount('/content/drive', force_remount=True)"
      ],
      "metadata": {
        "colab": {
          "base_uri": "https://localhost:8080/"
        },
        "id": "kOqw_w5WINP4",
        "outputId": "e96ecc89-37b8-4210-8b89-2c83d08e4f88"
      },
      "execution_count": null,
      "outputs": [
        {
          "output_type": "stream",
          "name": "stdout",
          "text": [
            "Mounted at /content/drive\n"
          ]
        }
      ]
    }
  ]
}