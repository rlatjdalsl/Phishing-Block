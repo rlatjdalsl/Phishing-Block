{
  "nbformat": 4,
  "nbformat_minor": 0,
  "metadata": {
    "colab": {
      "provenance": [],
      "include_colab_link": true
    },
    "kernelspec": {
      "name": "python3",
      "display_name": "Python 3"
    },
    "language_info": {
      "name": "python"
    }
  },
  "cells": [
    {
      "cell_type": "markdown",
      "metadata": {
        "id": "view-in-github",
        "colab_type": "text"
      },
      "source": [
        "<a href=\"https://colab.research.google.com/github/rlatjdalsl/Phishing-Block/blob/main/stt_lstm.ipynb\" target=\"_parent\"><img src=\"https://colab.research.google.com/assets/colab-badge.svg\" alt=\"Open In Colab\"/></a>"
      ]
    },
    {
      "cell_type": "code",
      "source": [
        "!pip install SpeechRecognition pydub\n",
        "!apt-get install -y ffmpeg"
      ],
      "metadata": {
        "colab": {
          "base_uri": "https://localhost:8080/"
        },
        "id": "uuWkj4BrepNF",
        "outputId": "248faf83-d365-4650-fc6d-d945e7ab109f"
      },
      "execution_count": null,
      "outputs": [
        {
          "output_type": "stream",
          "name": "stdout",
          "text": [
            "Collecting SpeechRecognition\n",
            "  Downloading speechrecognition-3.14.3-py3-none-any.whl.metadata (30 kB)\n",
            "Collecting pydub\n",
            "  Downloading pydub-0.25.1-py2.py3-none-any.whl.metadata (1.4 kB)\n",
            "Requirement already satisfied: typing-extensions in /usr/local/lib/python3.11/dist-packages (from SpeechRecognition) (4.13.2)\n",
            "Downloading speechrecognition-3.14.3-py3-none-any.whl (32.9 MB)\n",
            "\u001b[2K   \u001b[90m━━━━━━━━━━━━━━━━━━━━━━━━━━━━━━━━━━━━━━━━\u001b[0m \u001b[32m32.9/32.9 MB\u001b[0m \u001b[31m24.6 MB/s\u001b[0m eta \u001b[36m0:00:00\u001b[0m\n",
            "\u001b[?25hDownloading pydub-0.25.1-py2.py3-none-any.whl (32 kB)\n",
            "Installing collected packages: pydub, SpeechRecognition\n",
            "Successfully installed SpeechRecognition-3.14.3 pydub-0.25.1\n",
            "Reading package lists... Done\n",
            "Building dependency tree... Done\n",
            "Reading state information... Done\n",
            "ffmpeg is already the newest version (7:4.4.2-0ubuntu0.22.04.1).\n",
            "0 upgraded, 0 newly installed, 0 to remove and 34 not upgraded.\n"
          ]
        }
      ]
    },
    {
      "cell_type": "code",
      "source": [
        "import speech_recognition as sr\n",
        "import os\n",
        "\n",
        "# Google Drive 마운트\n",
        "from google.colab import drive\n",
        "drive.mount('/content/drive')\n",
        "\n",
        "# VoiceFile 폴더 경로 설정\n",
        "voice_file_path = '/content/drive/My Drive/Colab Notebooks/VoiceFile'\n",
        "\n",
        "# VoiceFile 폴더 안의 파일 목록 확인\n",
        "file_list = os.listdir(voice_file_path)\n",
        "print(\"VoiceFile 폴더 안의 파일 목록:\")\n",
        "for file in file_list:\n",
        "    print(file)\n",
        "\n",
        "def google_stt_from_drive(file_name):\n",
        "    recognizer = sr.Recognizer()\n",
        "    file_path = f\"{voice_file_path}/{file_name}\"\n",
        "    try:\n",
        "        with sr.AudioFile(file_path) as source:\n",
        "            print(\"음성을 불러오는 중...\")\n",
        "            audio = recognizer.record(source)\n",
        "            print(\"Google STT 변환 중...\")\n",
        "            text = recognizer.recognize_google(audio, language=\"ko-KR\")\n",
        "            print(\"인식된 텍스트:\", text)\n",
        "            return text\n",
        "    except sr.RequestError:\n",
        "        print(\"API 오류: Google 서버에 접근할 수 없습니다.\")\n",
        "    except sr.UnknownValueError:\n",
        "        print(\"음성을 인식하지 못했습니다.\")\n",
        "    return None\n",
        "\n",
        "# 첫 번째 파일로 테스트\n",
        "if file_list:\n",
        "    file_name = file_list[0]  # VoiceFile 폴더 안의 첫 번째 파일 사용\n",
        "    google_stt_from_drive(file_name)\n",
        "else:\n",
        "    print(\"VoiceFile 폴더에 음성 파일이 없습니다.\")\n"
      ],
      "metadata": {
        "colab": {
          "base_uri": "https://localhost:8080/"
        },
        "id": "rU305kWre3aI",
        "outputId": "6dccbcc0-c2c0-4cbf-cc21-214a39696991"
      },
      "execution_count": null,
      "outputs": [
        {
          "output_type": "stream",
          "name": "stdout",
          "text": [
            "Mounted at /content/drive\n",
            "VoiceFile 폴더 안의 파일 목록:\n",
            "test.wav\n",
            "model\n",
            "phishing\n",
            "normal\n",
            "음성을 불러오는 중...\n",
            "Google STT 변환 중...\n",
            "인식된 텍스트: 안녕하세요 하나 둘 셋 하나 둘 셋 저는 사기꾼입니다 보이스 피싱 저는 보이스피싱범입니다 돈을 빨리 보내 주셔야 지금 아들이 저랑 같이 있어요 지금 딸이 저랑 같이 있어요 지금 어머니가 크게 다치셨어요 지금 아버지가 크게 다치셨어요 안녕하세요 검찰 지금 대포 통장이 연료 되셨는데요\n"
          ]
        }
      ]
    },
    {
      "cell_type": "code",
      "source": [
        "import os\n",
        "from tensorflow.keras.preprocessing.text import Tokenizer\n",
        "from tensorflow.keras.preprocessing.sequence import pad_sequences\n",
        "import numpy as np\n",
        "\n",
        "# Google Drive 경로 설정\n",
        "base_path = '/content/drive/My Drive/Colab Notebooks/VoiceFile'\n",
        "normal_path = f'{base_path}/normal'\n",
        "phishing_path = f'{base_path}/phishing'\n",
        "\n",
        "# 텍스트 파일에서 문장 읽기\n",
        "def load_texts_from_folder(folder_path, label):\n",
        "    texts = []\n",
        "    labels = []\n",
        "    for file_name in os.listdir(folder_path):\n",
        "        file_path = os.path.join(folder_path, file_name)\n",
        "        if file_name.endswith('.txt'):\n",
        "            with open(file_path, 'r', encoding='utf-8') as f:\n",
        "                text = f.read().strip()\n",
        "                texts.append(text)\n",
        "                labels.append(label)\n",
        "    return texts, labels\n",
        "\n",
        "# 정상 대화 데이터 로드\n",
        "normal_texts, normal_labels = load_texts_from_folder(normal_path, label=0)\n",
        "\n",
        "# 보이스피싱 의심 대화 데이터 로드\n",
        "phishing_texts, phishing_labels = load_texts_from_folder(phishing_path, label=1)\n",
        "\n",
        "# 모든 데이터를 하나로 합치기\n",
        "texts = normal_texts + phishing_texts\n",
        "labels = normal_labels + phishing_labels\n",
        "\n",
        "# 데이터 확인\n",
        "print(f\"총 데이터 개수: {len(texts)}\")\n",
        "print(f\"일반 대화: {len(normal_texts)}, 보이스피싱 대화: {len(phishing_texts)}\")\n",
        "\n",
        "# 토크나이저 생성 및 학습\n",
        "tokenizer = Tokenizer(num_words=5000)\n",
        "tokenizer.fit_on_texts(texts)\n",
        "\n",
        "# 시퀀스 변환\n",
        "sequences = tokenizer.texts_to_sequences(texts)\n",
        "padded = pad_sequences(sequences, maxlen=200)\n",
        "\n",
        "# numpy 배열로 변환\n",
        "labels = np.array(labels)\n",
        "\n",
        "print(\"✅ 데이터 로드 및 전처리 완료!\")\n"
      ],
      "metadata": {
        "colab": {
          "base_uri": "https://localhost:8080/"
        },
        "id": "0rs6dDUdFksi",
        "outputId": "1c5b6bac-4a00-4795-ef96-d43311ab6102"
      },
      "execution_count": null,
      "outputs": [
        {
          "output_type": "stream",
          "name": "stdout",
          "text": [
            "총 데이터 개수: 15\n",
            "일반 대화: 7, 보이스피싱 대화: 8\n",
            "✅ 데이터 로드 및 전처리 완료!\n"
          ]
        }
      ]
    },
    {
      "cell_type": "code",
      "source": [
        "from tensorflow.keras.models import Sequential\n",
        "from tensorflow.keras.layers import Embedding, LSTM, Dense\n",
        "\n",
        "# 모델 정의\n",
        "model = Sequential([\n",
        "    Embedding(input_dim=5000, output_dim=128, input_length=100),\n",
        "    LSTM(64),\n",
        "    Dense(1, activation='sigmoid')\n",
        "])\n",
        "\n",
        "# 모델 컴파일\n",
        "model.compile(optimizer='adam', loss='binary_crossentropy', metrics=['accuracy'])\n",
        "\n",
        "# 모델 학습\n",
        "model.fit(padded, labels, epochs=5, batch_size=8)\n",
        "\n",
        "# 모델 저장\n",
        "model_path = f'{base_path}/model'\n",
        "if not os.path.exists(model_path):\n",
        "    os.makedirs(model_path)\n",
        "\n",
        "model.save(f\"{model_path}/phishing_model.h5\")\n",
        "\n",
        "# 토크나이저 저장\n",
        "import pickle\n",
        "with open(f\"{model_path}/tokenizer.pkl\", \"wb\") as f:\n",
        "    pickle.dump(tokenizer, f)\n",
        "\n",
        "print(\"✅ 모델 학습 및 저장 완료!\")\n"
      ],
      "metadata": {
        "colab": {
          "base_uri": "https://localhost:8080/"
        },
        "id": "QM5wqsSkF4Ky",
        "outputId": "a23d8a6c-c457-49b4-ac40-908711b8a934"
      },
      "execution_count": null,
      "outputs": [
        {
          "output_type": "stream",
          "name": "stdout",
          "text": [
            "Epoch 1/5\n",
            "\u001b[1m2/2\u001b[0m \u001b[32m━━━━━━━━━━━━━━━━━━━━\u001b[0m\u001b[37m\u001b[0m \u001b[1m2s\u001b[0m 71ms/step - accuracy: 0.8250 - loss: 0.6895\n",
            "Epoch 2/5\n",
            "\u001b[1m2/2\u001b[0m \u001b[32m━━━━━━━━━━━━━━━━━━━━\u001b[0m\u001b[37m\u001b[0m \u001b[1m0s\u001b[0m 69ms/step - accuracy: 0.9139 - loss: 0.6775\n",
            "Epoch 3/5\n",
            "\u001b[1m2/2\u001b[0m \u001b[32m━━━━━━━━━━━━━━━━━━━━\u001b[0m\u001b[37m\u001b[0m \u001b[1m0s\u001b[0m 68ms/step - accuracy: 1.0000 - loss: 0.6643\n",
            "Epoch 4/5\n",
            "\u001b[1m2/2\u001b[0m \u001b[32m━━━━━━━━━━━━━━━━━━━━\u001b[0m\u001b[37m\u001b[0m \u001b[1m0s\u001b[0m 70ms/step - accuracy: 1.0000 - loss: 0.6461\n",
            "Epoch 5/5\n",
            "\u001b[1m2/2\u001b[0m \u001b[32m━━━━━━━━━━━━━━━━━━━━\u001b[0m\u001b[37m\u001b[0m \u001b[1m0s\u001b[0m 66ms/step - accuracy: 1.0000 - loss: 0.6257\n"
          ]
        },
        {
          "output_type": "stream",
          "name": "stderr",
          "text": [
            "WARNING:absl:You are saving your model as an HDF5 file via `model.save()` or `keras.saving.save_model(model)`. This file format is considered legacy. We recommend using instead the native Keras format, e.g. `model.save('my_model.keras')` or `keras.saving.save_model(model, 'my_model.keras')`. \n"
          ]
        },
        {
          "output_type": "stream",
          "name": "stdout",
          "text": [
            "✅ 모델 학습 및 저장 완료!\n"
          ]
        }
      ]
    },
    {
      "cell_type": "code",
      "source": [],
      "metadata": {
        "colab": {
          "base_uri": "https://localhost:8080/"
        },
        "id": "kOqw_w5WINP4",
        "outputId": "e96ecc89-37b8-4210-8b89-2c83d08e4f88"
      },
      "execution_count": null,
      "outputs": [
        {
          "output_type": "stream",
          "name": "stdout",
          "text": [
            "Mounted at /content/drive\n"
          ]
        }
      ]
    },
    {
      "cell_type": "code",
      "source": [
        "import speech_recognition as sr\n",
        "import os\n",
        "import pickle\n",
        "from tensorflow.keras.models import load_model\n",
        "from tensorflow.keras.preprocessing.sequence import pad_sequences\n",
        "\n",
        "# Google Drive 마운트\n",
        "from google.colab import drive\n",
        "drive.mount('/content/drive')\n",
        "\n",
        "# 경로 설정\n",
        "voice_file_path = '/content/drive/My Drive/Colab Notebooks/VoiceFile'\n",
        "model_path = f\"{voice_file_path}/model/phishing_model.h5\"\n",
        "tokenizer_path = f\"{voice_file_path}/model/tokenizer.pkl\"\n",
        "\n",
        "# 모델과 토크나이저 로드\n",
        "print(\"🔁 모델과 토크나이저 로딩 중...\")\n",
        "model = load_model(model_path)\n",
        "with open(tokenizer_path, 'rb') as f:\n",
        "    tokenizer = pickle.load(f)\n",
        "print(\"✅ 모델 로딩 완료!\")\n",
        "\n",
        "def analyze_audio_risk(file_name, threshold=0.5):\n",
        "    recognizer = sr.Recognizer()\n",
        "    file_path = os.path.join(voice_file_path, file_name)\n",
        "\n",
        "    # 1. STT 변환\n",
        "    try:\n",
        "        with sr.AudioFile(file_path) as source:\n",
        "            print(f\"🎧 음성 파일 불러오는 중: {file_name}\")\n",
        "            audio = recognizer.record(source)\n",
        "            print(\"🔁 Google STT 변환 중...\")\n",
        "            text = recognizer.recognize_google(audio, language=\"ko-KR\")\n",
        "            print(\"📝 인식된 텍스트:\", text)\n",
        "    except sr.UnknownValueError:\n",
        "        print(\"❌ 음성을 인식하지 못했습니다.\")\n",
        "        return\n",
        "    except sr.RequestError:\n",
        "        print(\"❌ Google STT API 오류 발생.\")\n",
        "        return\n",
        "\n",
        "    # 2. Keras 위험도 분석\n",
        "    seq = tokenizer.texts_to_sequences([text])\n",
        "    padded = pad_sequences(seq, maxlen=100)\n",
        "    prediction = model.predict(padded)[0][0]\n",
        "\n",
        "    print(f\"📊 위험도 예측값: {prediction:.4f}\")\n",
        "    if prediction > threshold:\n",
        "        print(\"🚨 보이스피싱 가능성 높음!\")\n",
        "    else:\n",
        "        print(\"✅ 정상 대화로 판단됨\")\n",
        "\n",
        "    # 3. LLM 분석 추가\n",
        "    llm_result = llm_analysis(text, prediction, threshold)\n",
        "    print(\"💬 최종 판단:\", llm_result)\n"
      ],
      "metadata": {
        "colab": {
          "base_uri": "https://localhost:8080/"
        },
        "id": "Y-UbWreBsQbo",
        "outputId": "a16d93fc-2a13-47aa-f5b3-137d4ea7be7c"
      },
      "execution_count": null,
      "outputs": [
        {
          "output_type": "stream",
          "name": "stderr",
          "text": [
            "WARNING:absl:Compiled the loaded model, but the compiled metrics have yet to be built. `model.compile_metrics` will be empty until you train or evaluate the model.\n"
          ]
        },
        {
          "output_type": "stream",
          "name": "stdout",
          "text": [
            "Drive already mounted at /content/drive; to attempt to forcibly remount, call drive.mount(\"/content/drive\", force_remount=True).\n",
            "🔁 모델과 토크나이저 로딩 중...\n",
            "✅ 모델 로딩 완료!\n"
          ]
        }
      ]
    },
    {
      "cell_type": "code",
      "source": [],
      "metadata": {
        "id": "ANk6dMFwekH2"
      },
      "execution_count": null,
      "outputs": []
    },
    {
      "cell_type": "code",
      "source": [
        "from openai import OpenAI\n",
        "\n",
        "# OpenRouter API 설정\n",
        "client = OpenAI(\n",
        "    api_key=\"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\",  # OpenRouter에서 발급받은 API 키 입력\n",
        "    base_url=\"https://openrouter.ai/api/v1\"\n",
        ")\n",
        "\n",
        "# LLM 분석 함수 정의\n",
        "def llm_analysis(text, risk_score, threshold=0.5):\n",
        "    print(f\"\\n📊 위험도: {risk_score:.4f}\")\n",
        "    if risk_score <= threshold:\n",
        "        print(\"✅ 위험도 낮아 LLM 분석 생략\")\n",
        "        return \"정상 대화로 간주\"\n",
        "\n",
        "    print(\"🚨 위험도 높음 → LLM 분석 시작\")\n",
        "\n",
        "    try:\n",
        "        response = client.chat.completions.create(\n",
        "            model=\"tngtech/deepseek-r1t-chimera:free\",  # DeepSeek Chimera 모델 지정\n",
        "            messages=[\n",
        "                {\n",
        "                    \"role\": \"system\",\n",
        "                    \"content\": (\n",
        "                        \"당신은 보이스피싱 탐지 전문가입니다. \"\n",
        "                        \"아래 문장이 보이스피싱인지 판단해 주세요. \"\n",
        "                        \"보이스피싱의 기준은 다음과 같습니다\"\n",
        "                        \"- 금전 요구(송금, 입금, 대출, 투자 권유 등)\"\n",
        "                        \"- 긴박한 상황 조성(자녀 사고, 검찰·경찰 사칭, 계좌 정지, 개인정보 노출 등)\"\n",
        "                        \"- 전화나 문자 등으로 개인정보, 금융정보를 요구하거나 조작된 링크 클릭을 유도\"\n",
        "                        \"- 말투나 단어에서 불안, 협박, 회유, 급박함이 느껴질 경우\"\n",
        "                        \"- 감정적으로 압박하며 죄책감을 유도하는 경우\"\n",
        "                        \"- 금전을 빌려달라는 요구를 통해 상대방을 공범으로 만들려는 경우가 있는경우\"\n",
        "                        \"해당 문장이 위 기준에 부합하면 “보이스피싱입니다”, 그렇지 않으면 “정상 대화입니다” 라고 **딱 한 문장만 출력**하십시오.\"\n",
        "                    )\n",
        "                },\n",
        "                {\n",
        "                    \"role\": \"user\",\n",
        "                    \"content\": text\n",
        "                }\n",
        "            ]\n",
        "        )\n",
        "\n",
        "        result = response.choices[0].message.content.strip()\n",
        "        print(\"📢 LLM 분석 결과:\", result)\n",
        "        return result\n",
        "\n",
        "    except Exception as e:\n",
        "        print(\"❌ LLM 분석 중 오류 발생:\", str(e))\n",
        "        return \"분석 실패\"\n",
        "\n",
        "# VoiceFile 폴더 내 파일 목록 확인\n",
        "file_list = os.listdir(voice_file_path)\n",
        "print(\"📂 VoiceFile 폴더 안의 파일 목록:\")\n",
        "for file in file_list:\n",
        "    print(\"-\", file)\n",
        "\n",
        "# 첫 번째 파일로 분석 테스트 실행\n",
        "if file_list:\n",
        "    test_file = file_list[0]\n",
        "    analyze_audio_risk(test_file)\n",
        "else:\n",
        "    print(\"❗ VoiceFile 폴더에 분석할 음성 파일이 없습니다.\")\n"
      ],
      "metadata": {
        "colab": {
          "base_uri": "https://localhost:8080/"
        },
        "id": "3vkXJkpxvCM6",
        "outputId": "9fe953ed-d195-496b-a3dc-40f9bc28c2b6"
      },
      "execution_count": null,
      "outputs": [
        {
          "output_type": "stream",
          "name": "stdout",
          "text": [
            "📂 VoiceFile 폴더 안의 파일 목록:\n",
            "- test.wav\n",
            "- model\n",
            "- phishing\n",
            "- normal\n",
            "🎧 음성 파일 불러오는 중: test.wav\n",
            "🔁 Google STT 변환 중...\n",
            "📝 인식된 텍스트: 안녕하세요 하나 둘 셋 하나 둘 셋 저는 사기꾼입니다 보이스 피싱 저는 보이스피싱범입니다 돈을 빨리 보내 주셔야 지금 아들이 저랑 같이 있어요 지금 딸이 저랑 같이 있어요 지금 어머니가 크게 다치셨어요 지금 아버지가 크게 다치셨어요 안녕하세요 검찰 지금 대포 통장이 연료 되셨는데요\n",
            "\u001b[1m1/1\u001b[0m \u001b[32m━━━━━━━━━━━━━━━━━━━━\u001b[0m\u001b[37m\u001b[0m \u001b[1m0s\u001b[0m 216ms/step\n",
            "📊 위험도 예측값: 0.0970\n",
            "✅ 정상 대화로 판단됨\n",
            "\n",
            "📊 위험도: 0.0970\n",
            "✅ 위험도 낮아 LLM 분석 생략\n",
            "💬 최종 판단: 정상 대화로 간주\n"
          ]
        }
      ]
    }
  ]
}